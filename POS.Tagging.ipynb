{
 "cells": [
  {
   "cell_type": "code",
   "execution_count": 85,
   "metadata": {
    "collapsed": false
   },
   "outputs": [],
   "source": [
    "#import statements\n",
    "import string\n",
    "import math\n",
    "from collections import Counter as ct\n",
    "from nltk.tokenize import word_tokenize as wordTok\n",
    "from nltk.tag import pos_tag"
   ]
  },
  {
   "cell_type": "code",
   "execution_count": 86,
   "metadata": {
    "collapsed": true
   },
   "outputs": [],
   "source": [
    "#function to remove problem characters\n",
    "def removeNonAscii(text):\n",
    "    return ''.join(i for i in text if ord(i)<128)"
   ]
  },
  {
   "cell_type": "code",
   "execution_count": 87,
   "metadata": {
    "collapsed": false
   },
   "outputs": [],
   "source": [
    "#open, read, remove problem characters, remove punctuation for tokenization\n",
    "teslaSummary = removeNonAscii(open(\n",
    "        \"D:\\Google Drive\\Grad School\\UIC\\MS-MIS\\IDS566\\Assignment3\\TeslaSummary1.txt\", \"r\").read()).translate(None, string.punctuation)\n",
    "NYTimes = removeNonAscii(open(\n",
    "        \"D:\\Google Drive\\Grad School\\UIC\\MS-MIS\\IDS566\\Assignment3\\NYTimes.txt\", \"r\").read()).translate(None, string.punctuation)\n",
    "ESPN = removeNonAscii(open(\n",
    "        \"D:\\Google Drive\\Grad School\\UIC\\MS-MIS\\IDS566\\Assignment3\\ESPN.txt\", \"r\").read()).translate(None, string.punctuation)"
   ]
  },
  {
   "cell_type": "code",
   "execution_count": 88,
   "metadata": {
    "collapsed": true
   },
   "outputs": [],
   "source": [
    "#tokenize the words\n",
    "teslaSummaryTok = wordTok(teslaSummary)\n",
    "NYTimesTok = wordTok(NYTimes)\n",
    "ESPNTok = wordTok(ESPN)"
   ]
  },
  {
   "cell_type": "code",
   "execution_count": 89,
   "metadata": {
    "collapsed": false
   },
   "outputs": [],
   "source": [
    "#tag the tokens\n",
    "teslaSummaryPOS = pos_tag(teslaSummaryTok)\n",
    "NYTimesPOS = pos_tag(NYTimesTok)\n",
    "ESPNPOS = pos_tag(ESPNTok)"
   ]
  },
  {
   "cell_type": "code",
   "execution_count": 90,
   "metadata": {
    "collapsed": true
   },
   "outputs": [],
   "source": [
    "#declare the list and dictionary variable that are about to be used\n",
    "teslaSummaryTags = []\n",
    "NYTimesTags = []\n",
    "ESPNTags = []\n",
    "#teslaSumTagCount = {}\n",
    "#NYTimesTagCount = {}\n",
    "#ESPNTagCount = {}\n",
    "teslaSubLinearNorm = {}\n",
    "NYTimesSubLinearNorm = {}\n",
    "ESPNSubLinearNorm = {}"
   ]
  },
  {
   "cell_type": "code",
   "execution_count": 91,
   "metadata": {
    "collapsed": false
   },
   "outputs": [],
   "source": [
    "#pull out only the tags, leave the words behind\n",
    "x = 0\n",
    "y = 0\n",
    "z = 0\n",
    "for i in teslaSummaryPOS:\n",
    "    teslaSummaryTags.append(teslaSummaryPOS[x][1])\n",
    "    x += 1\n",
    "for i in NYTimesPOS:\n",
    "    NYTimesTags.append(NYTimesPOS[y][1])\n",
    "    y += 1\n",
    "for i in ESPNPOS:\n",
    "    ESPNTags.append(ESPNPOS[z][1])\n",
    "    z +=1"
   ]
  },
  {
   "cell_type": "code",
   "execution_count": 92,
   "metadata": {
    "collapsed": false
   },
   "outputs": [],
   "source": [
    "#count the tags\n",
    "teslaSumTagCount = ct(teslaSummaryTags)\n",
    "NYTimesTagCount = ct(NYTimesTags)\n",
    "ESPNTagCount = ct(ESPNTags)"
   ]
  },
  {
   "cell_type": "code",
   "execution_count": 93,
   "metadata": {
    "collapsed": false
   },
   "outputs": [],
   "source": [
    "#sublinear normalization\n",
    "for key in teslaSumTagCount:\n",
    "    x = teslaSumTagCount[key]\n",
    "    if x > 0:\n",
    "        teslaSubLinearNorm[key] =  1 + math.log(x)\n",
    "for key in NYTimesTagCount:\n",
    "    x = NYTimesTagCount[key]\n",
    "    if x > 0:\n",
    "        NYTimesSubLinearNorm[key] =  1 + math.log(x)\n",
    "for key in ESPNTagCount:\n",
    "    x = ESPNTagCount[key]\n",
    "    if x > 0:\n",
    "        ESPNSubLinearNorm[key] =  1 + math.log(x)"
   ]
  },
  {
   "cell_type": "code",
   "execution_count": 94,
   "metadata": {
    "collapsed": false
   },
   "outputs": [],
   "source": [
    "#intersections\n",
    "tesNYIntersection = {}\n",
    "for item in teslaSubLinearNorm:\n",
    "    if item in NYTimesSubLinearNorm:\n",
    "        tesNYIntersection[item] = teslaSubLinearNorm[item] + NYTimesSubLinearNorm[item]\n",
    "\n",
    "tesESPNIntersection = {}\n",
    "for item in teslaSubLinearNorm:\n",
    "    if item in ESPNSubLinearNorm:\n",
    "        tesESPNIntersection[item] = teslaSubLinearNorm[item] + ESPNSubLinearNorm[item]\n",
    "\n",
    "NYESPNIntersection = {}\n",
    "for item in NYTimesSubLinearNorm:\n",
    "    if item in ESPNSubLinearNorm:\n",
    "        NYESPNIntersection[item] = NYTimesSubLinearNorm[item] + ESPNSubLinearNorm[item]"
   ]
  },
  {
   "cell_type": "code",
   "execution_count": 95,
   "metadata": {
    "collapsed": false
   },
   "outputs": [],
   "source": [
    "#unions - I'm sure there is a more efficient way to do this but I don't know what it is\n",
    "tesNYUnion = {}\n",
    "for item in teslaSubLinearNorm:\n",
    "    if item in NYTimesSubLinearNorm:\n",
    "        tesNYUnion[item] = teslaSubLinearNorm[item] + NYTimesSubLinearNorm[item]\n",
    "    else:\n",
    "        tesNYUnion[item] = teslaSubLinearNorm[item]\n",
    "for item in NYTimesSubLinearNorm:\n",
    "    if item not in teslaSubLinearNorm:\n",
    "        tesNYUnion[item] = NYTimesSubLinearNorm[item]\n",
    "        \n",
    "tesESPNUnion = {}\n",
    "for item in teslaSubLinearNorm:\n",
    "    if item in ESPNSubLinearNorm:\n",
    "        tesESPNUnion[item] = teslaSubLinearNorm[item] + ESPNSubLinearNorm[item]\n",
    "    else:\n",
    "        tesESPNUnion[item] = teslaSubLinearNorm[item]\n",
    "for item in ESPNSubLinearNorm:\n",
    "    if item not in teslaSubLinearNorm:\n",
    "        tesESPNUnion[item] = ESPNSubLinearNorm[item]\n",
    "        \n",
    "NYESPNUnion = {}\n",
    "for item in NYTimesSubLinearNorm:\n",
    "    if item in ESPNSubLinearNorm:\n",
    "        NYESPNUnion[item] = NYTimesSubLinearNorm[item] + ESPNSubLinearNorm[item]\n",
    "    else:\n",
    "        NYESPNUnion[item] = NYTimesSubLinearNorm[item]\n",
    "for item in ESPNSubLinearNorm:\n",
    "    if item not in NYTimesSubLinearNorm:\n",
    "        NYESPNUnion[item] = ESPNSubLinearNorm[item]"
   ]
  },
  {
   "cell_type": "code",
   "execution_count": 96,
   "metadata": {
    "collapsed": false
   },
   "outputs": [],
   "source": [
    "#summations\n",
    "tesNYIntSum = float(sum(tesNYIntersection.values()))\n",
    "tesESPNIntSum = float(sum(tesESPNIntersection.values()))\n",
    "NYESPNIntSum = float(sum(NYESPNIntersection.values()))\n",
    "tesNYUnSum = float(sum(tesNYUnion.values()))\n",
    "tesESPNUnSum = float(sum(tesESPNUnion.values()))\n",
    "NYESPNUnSum = float(sum(NYESPNUnion.values()))"
   ]
  },
  {
   "cell_type": "code",
   "execution_count": 98,
   "metadata": {
    "collapsed": false
   },
   "outputs": [],
   "source": [
    "#calculate jaccard sim\n",
    "tesNYJaccard = tesNYIntSum / tesNYUnSum\n",
    "tesESPNJaccard = tesESPNIntSum / tesESPNUnSum\n",
    "NYESPNJaccard = NYESPNIntSum / NYESPNUnSum"
   ]
  },
  {
   "cell_type": "code",
   "execution_count": 99,
   "metadata": {
    "collapsed": false
   },
   "outputs": [
    {
     "name": "stdout",
     "output_type": "stream",
     "text": [
      "0.91893997939 0.928731079761 0.9683931859\n"
     ]
    }
   ],
   "source": [
    "print tesNYJaccard, tesESPNJaccard, NYESPNJaccard"
   ]
  }
 ],
 "metadata": {
  "kernelspec": {
   "display_name": "Python 2",
   "language": "python",
   "name": "python2"
  },
  "language_info": {
   "codemirror_mode": {
    "name": "ipython",
    "version": 2
   },
   "file_extension": ".py",
   "mimetype": "text/x-python",
   "name": "python",
   "nbconvert_exporter": "python",
   "pygments_lexer": "ipython2",
   "version": "2.7.11"
  }
 },
 "nbformat": 4,
 "nbformat_minor": 0
}
